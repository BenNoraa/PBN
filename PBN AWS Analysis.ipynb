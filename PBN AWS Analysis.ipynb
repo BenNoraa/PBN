{
 "cells": [
  {
   "cell_type": "code",
   "execution_count": 91,
   "metadata": {},
   "outputs": [],
   "source": [
    "import numpy as np\n",
    "import pandas as pd\n",
    "import scipy as sp\n",
    "import plotly.plotly as py\n",
    "import plotly.graph_objs as go\n",
    "import plotly.figure_factory as ff\n",
    "import matplotlib.pyplot as plt"
   ]
  },
  {
   "cell_type": "code",
   "execution_count": 7,
   "metadata": {
    "scrolled": false
   },
   "outputs": [
    {
     "name": "stderr",
     "output_type": "stream",
     "text": [
      "/Users/aaronbendickson/miniconda3/envs/py37panda/lib/python3.7/site-packages/ipykernel_launcher.py:1: ParserWarning:\n",
      "\n",
      "Falling back to the 'python' engine because the 'c' engine does not support regex separators (separators > 1 char and different from '\\s+' are interpreted as regex); you can avoid this warning by specifying engine='python'.\n",
      "\n",
      "/Users/aaronbendickson/miniconda3/envs/py37panda/lib/python3.7/site-packages/ipykernel_launcher.py:2: ParserWarning:\n",
      "\n",
      "Falling back to the 'python' engine because the 'c' engine does not support regex separators (separators > 1 char and different from '\\s+' are interpreted as regex); you can avoid this warning by specifying engine='python'.\n",
      "\n"
     ]
    }
   ],
   "source": [
    "s3_df = pd.read_csv('s3_Sept - report (1).csv', sep='\\s*,\\s*')\n",
    "cf_df = pd.read_csv('cloudfront_sept - report (2).csv', sep='\\s*,\\s*')"
   ]
  },
  {
   "cell_type": "code",
   "execution_count": 93,
   "metadata": {},
   "outputs": [
    {
     "data": {
      "text/plain": [
       "playbackacp.com                                               58\n",
       "playbacknacac.com                                             49\n",
       "iplayback.com                                                 47\n",
       "playbacknatp.com                                              45\n",
       "playbackaaj.com                                               43\n",
       "digitaldealer.playbacknow.com                                 43\n",
       "playbackclc.com                                               39\n",
       "playbacknetworker.com                                         38\n",
       "iplaybacklive.com                                             38\n",
       "playbackcore.com                                              38\n",
       "playbacknow.com                                               37\n",
       "playbackaca.com                                               34\n",
       "playbackhinman.com                                            34\n",
       "playbackngs.com                                               32\n",
       "playbacknaspa.com                                             32\n",
       "playbacknacba.com                                             32\n",
       "playbacknar.com                                               31\n",
       "playbackaclp.com                                              31\n",
       "playbacknarme.com                                             31\n",
       "playbackaone.com                                              31\n",
       "playbackc21.com                                               31\n",
       "playbacknrpa.com                                              30\n",
       "playbacktappi.com                                             30\n",
       "nais.playbacknow.com                                          30\n",
       "playbackndsc.com                                              30\n",
       "nasmm.playbacknow.com                                         30\n",
       "acca.playbacknow.com                                          29\n",
       "tripleplay.playbacknow.com                                    29\n",
       "playbackrims.com                                              29\n",
       "naraei.playbacknow.com                                        29\n",
       "playbacknala.com                                              29\n",
       "playbackre.com                                                29\n",
       "isa.playbacknow.com                                           29\n",
       "playbackcas.com                                               28\n",
       "playbackcaregiving.com                                        21\n",
       "pbncdn                                                        15\n",
       "videopoint                                                    12\n",
       "playbackdcdental.com                                          11\n",
       "iplaybacklive                                                 10\n",
       "playbackuli.com                                                8\n",
       "playbacknicabm.com                                             8\n",
       "playbackascd.com                                               8\n",
       "playbackaanp.com                                               8\n",
       "pbnlog                                                         8\n",
       "LoadTest                                                       6\n",
       "nicabmvpclogging                                               6\n",
       "eu.bucketexplorer.930e5853bd29b946d638f59e225e04c231f81b45     4\n",
       "us.bucketexplorer.930e5853bd29b946d638f59e225e04c231f81b45     2\n",
       "cf-templates-1j16avuu1nn1g-us-east-1                           2\n",
       "Name: Resource, dtype: int64"
      ]
     },
     "execution_count": 93,
     "metadata": {},
     "output_type": "execute_result"
    }
   ],
   "source": [
    "# S3 Total Number of Events by Resource (PBN Customer) for Sept 17\n",
    "s3_df['Resource'].value_counts()"
   ]
  },
  {
   "cell_type": "code",
   "execution_count": 55,
   "metadata": {
    "scrolled": true
   },
   "outputs": [
    {
     "data": {
      "text/plain": [
       "Requests-Tier2               287\n",
       "DataTransfer-Out-Bytes       251\n",
       "Requests-Tier1               170\n",
       "C3DataTransfer-Out-Bytes     162\n",
       "USE1-CloudFront-Out-Bytes     96\n",
       "TimedStorage-ByteHrs          92\n",
       "StorageObjectCount            92\n",
       "C3DataTransfer-In-Bytes       72\n",
       "NoCharge                      36\n",
       "DataTransfer-In-Bytes         20\n",
       "Requests-NoCharge             11\n",
       "USE1-USW1-AWS-Out-Bytes        9\n",
       "USE1-USW2-AWS-Out-Bytes        6\n",
       "USE1-USE2-AWS-Out-Bytes        4\n",
       "USE1-APN1-AWS-Out-Bytes        1\n",
       "Name: UsageType, dtype: int64"
      ]
     },
     "execution_count": 55,
     "metadata": {},
     "output_type": "execute_result"
    }
   ],
   "source": [
    "# S3 Total Unique Events by UsageType for Sept 17\n",
    "s3_df['UsageType'].value_counts()"
   ]
  },
  {
   "cell_type": "code",
   "execution_count": 57,
   "metadata": {},
   "outputs": [
    {
     "data": {
      "text/plain": [
       "GetObject              284\n",
       "ListBucket             242\n",
       "PutObject              193\n",
       "StandardStorage        184\n",
       "ReadACL                135\n",
       "HeadBucket             125\n",
       "HeadObject              44\n",
       "ReadVersioningProps     24\n",
       "ReadLocation            20\n",
       "WriteACL                20\n",
       "ListBucketVersions      18\n",
       "ListAllMyBuckets         5\n",
       "PreflightRequest         5\n",
       "MultiObjectDelete        4\n",
       "CopyObject               4\n",
       "DeleteObject             2\n",
       "Name: Operation, dtype: int64"
      ]
     },
     "execution_count": 57,
     "metadata": {},
     "output_type": "execute_result"
    }
   ],
   "source": [
    "# S3 Total Unique Events by Operation for Sept 17\n",
    "s3_df['Operation'].value_counts()"
   ]
  },
  {
   "cell_type": "code",
   "execution_count": 58,
   "metadata": {},
   "outputs": [],
   "source": [
    "def bytes_to_gb(bytes_value):\n",
    "    return round(float(bytes_value / 1000000),1)"
   ]
  },
  {
   "cell_type": "code",
   "execution_count": 64,
   "metadata": {},
   "outputs": [
    {
     "data": {
      "text/plain": [
       "US-DataTransfer-Out-Bytes     52\n",
       "US-Requests-Tier1             38\n",
       "US-Out-Bytes-HTTP-Static      38\n",
       "US-Requests-HTTP-Static       38\n",
       "EU-DataTransfer-Out-Bytes     34\n",
       "EU-Requests-HTTP-Static       29\n",
       "EU-Out-Bytes-HTTP-Static      29\n",
       "EU-Requests-Tier1             29\n",
       "CA-DataTransfer-Out-Bytes     27\n",
       "CA-Out-Bytes-HTTP-Static      20\n",
       "CA-Requests-HTTP-Static       20\n",
       "CA-Requests-Tier1             20\n",
       "US-FMS-Out-Bytes              13\n",
       "AP-DataTransfer-Out-Bytes     12\n",
       "AP-Out-Bytes-HTTP-Static       9\n",
       "AP-Requests-Tier1              9\n",
       "AP-Requests-HTTP-Static        9\n",
       "SA-Requests-HTTP-Static        8\n",
       "SA-Out-Bytes-HTTP-Static       8\n",
       "SA-DataTransfer-Out-Bytes      8\n",
       "SA-Requests-Tier1              8\n",
       "CA-FMS-Out-Bytes               7\n",
       "IN-Requests-Tier1              7\n",
       "IN-Out-Bytes-HTTP-Static       7\n",
       "IN-DataTransfer-Out-Bytes      7\n",
       "IN-Requests-HTTP-Static        7\n",
       "JP-Requests-HTTP-Static        6\n",
       "JP-Out-Bytes-HTTP-Static       6\n",
       "JP-Requests-Tier1              6\n",
       "JP-DataTransfer-Out-Bytes      6\n",
       "AU-Requests-HTTP-Static        5\n",
       "AU-DataTransfer-Out-Bytes      5\n",
       "AU-Requests-Tier1              5\n",
       "AU-Out-Bytes-HTTP-Static       5\n",
       "EU-FMS-Out-Bytes               5\n",
       "AP-FMS-Out-Bytes               2\n",
       "AP-Out-Bytes-HTTP-Proxy        1\n",
       "US-DataTransfer-Out-OBytes     1\n",
       "AP-Requests-HTTP-Proxy         1\n",
       "US-Requests-HTTP-Proxy         1\n",
       "AP-DataTransfer-Out-OBytes     1\n",
       "US-Out-OBytes-HTTP-Proxy       1\n",
       "AP-Out-OBytes-HTTP-Proxy       1\n",
       "US-Out-Bytes-HTTP-Proxy        1\n",
       "Name: UsageType, dtype: int64"
      ]
     },
     "execution_count": 64,
     "metadata": {},
     "output_type": "execute_result"
    }
   ],
   "source": [
    "# CloudFront Total Unique Events by UsageType Sept 17\n",
    "cf_df['UsageType'].value_counts()"
   ]
  },
  {
   "cell_type": "code",
   "execution_count": 60,
   "metadata": {},
   "outputs": [],
   "source": [
    "s3gbdf = s3_df['UsageValue'].apply(bytes_to_gb)"
   ]
  },
  {
   "cell_type": "code",
   "execution_count": 61,
   "metadata": {},
   "outputs": [],
   "source": [
    "s3gb_df = s3_df.assign(GB=lambda s3_df: round(s3_df.UsageValue / 1000000,1) )"
   ]
  },
  {
   "cell_type": "code",
   "execution_count": 62,
   "metadata": {},
   "outputs": [],
   "source": [
    "cfgb_df = cf_df.assign(GB=lambda s3_df: round(s3_df.UsageValue / 1000000,1) )"
   ]
  },
  {
   "cell_type": "code",
   "execution_count": null,
   "metadata": {},
   "outputs": [],
   "source": []
  },
  {
   "cell_type": "code",
   "execution_count": 66,
   "metadata": {},
   "outputs": [
    {
     "data": {
      "text/plain": [
       "UsageType\n",
       "AP-DataTransfer-Out-Bytes       22918688461\n",
       "AP-DataTransfer-Out-OBytes              895\n",
       "AP-FMS-Out-Bytes                  114143388\n",
       "AP-Out-Bytes-HTTP-Proxy                2032\n",
       "AP-Out-Bytes-HTTP-Static        22804543041\n",
       "AP-Out-OBytes-HTTP-Proxy                895\n",
       "AP-Requests-HTTP-Proxy                    2\n",
       "AP-Requests-HTTP-Static                4578\n",
       "AP-Requests-Tier1                      4578\n",
       "AU-DataTransfer-Out-Bytes       11834331299\n",
       "AU-Out-Bytes-HTTP-Static        11834331299\n",
       "AU-Requests-HTTP-Static                 351\n",
       "AU-Requests-Tier1                       351\n",
       "CA-DataTransfer-Out-Bytes       15831347771\n",
       "CA-FMS-Out-Bytes                   22222372\n",
       "CA-Out-Bytes-HTTP-Static        15809125399\n",
       "CA-Requests-HTTP-Static                2001\n",
       "CA-Requests-Tier1                      2001\n",
       "EU-DataTransfer-Out-Bytes      285991447654\n",
       "EU-FMS-Out-Bytes                   50273504\n",
       "EU-Out-Bytes-HTTP-Static       285941174150\n",
       "EU-Requests-HTTP-Static             1372861\n",
       "EU-Requests-Tier1                   1372861\n",
       "IN-DataTransfer-Out-Bytes       25729864372\n",
       "IN-Out-Bytes-HTTP-Static        25729864372\n",
       "IN-Requests-HTTP-Static                2561\n",
       "IN-Requests-Tier1                      2561\n",
       "JP-DataTransfer-Out-Bytes        2755061564\n",
       "JP-Out-Bytes-HTTP-Static         2755061564\n",
       "JP-Requests-HTTP-Static                 160\n",
       "JP-Requests-Tier1                       160\n",
       "SA-DataTransfer-Out-Bytes         674484173\n",
       "SA-Out-Bytes-HTTP-Static          674484173\n",
       "SA-Requests-HTTP-Static                  76\n",
       "SA-Requests-Tier1                        76\n",
       "US-DataTransfer-Out-Bytes     1887941217101\n",
       "US-DataTransfer-Out-OBytes              645\n",
       "US-FMS-Out-Bytes                 1132278469\n",
       "US-Out-Bytes-HTTP-Proxy                2032\n",
       "US-Out-Bytes-HTTP-Static      1886808936600\n",
       "US-Out-OBytes-HTTP-Proxy                645\n",
       "US-Requests-HTTP-Proxy                    2\n",
       "US-Requests-HTTP-Static              564762\n",
       "US-Requests-Tier1                    564762\n",
       "Name: UsageValue, dtype: int64"
      ]
     },
     "execution_count": 66,
     "metadata": {},
     "output_type": "execute_result"
    }
   ],
   "source": [
    "# CloudFront Total 'UsageValue' for each 'UsageType' for Sept 17\n",
    "cf_df.groupby('UsageType')['UsageValue'].sum()"
   ]
  },
  {
   "cell_type": "code",
   "execution_count": 68,
   "metadata": {},
   "outputs": [
    {
     "data": {
      "text/plain": [
       "UsageType\n",
       "C3DataTransfer-In-Bytes             23798754\n",
       "C3DataTransfer-Out-Bytes            39228238\n",
       "DataTransfer-In-Bytes              212382473\n",
       "DataTransfer-Out-Bytes           17854563795\n",
       "NoCharge                               13229\n",
       "Requests-Tier1                         19641\n",
       "Requests-Tier2                         33293\n",
       "StorageObjectCount                  39307339\n",
       "TimedStorage-ByteHrs         295552975890384\n",
       "USE1-CloudFront-Out-Bytes        20473584533\n",
       "Name: UsageValue, dtype: int64"
      ]
     },
     "execution_count": 68,
     "metadata": {},
     "output_type": "execute_result"
    }
   ],
   "source": [
    "# Total S3 'UsageValue' by 'UsageType' for PlaybackAAJ Sept 17\n",
    "s3_df[s3_df['Resource'] == 'playbackaaj.com'].groupby('UsageType')['UsageValue'].sum()"
   ]
  },
  {
   "cell_type": "code",
   "execution_count": 70,
   "metadata": {},
   "outputs": [
    {
     "data": {
      "text/plain": [
       "UsageType\n",
       "US-Out-Bytes-HTTP-Static     1886808925441\n",
       "US-DataTransfer-Out-Bytes    1886808925441\n",
       "EU-Out-Bytes-HTTP-Static      285941167431\n",
       "EU-DataTransfer-Out-Bytes     285941167431\n",
       "IN-DataTransfer-Out-Bytes      25729864372\n",
       "IN-Out-Bytes-HTTP-Static       25729864372\n",
       "AP-DataTransfer-Out-Bytes      22804543041\n",
       "AP-Out-Bytes-HTTP-Static       22804543041\n",
       "CA-DataTransfer-Out-Bytes      15809125399\n",
       "CA-Out-Bytes-HTTP-Static       15809125399\n",
       "AU-DataTransfer-Out-Bytes      11834331299\n",
       "AU-Out-Bytes-HTTP-Static       11834331299\n",
       "JP-Out-Bytes-HTTP-Static        2755061564\n",
       "JP-DataTransfer-Out-Bytes       2755061564\n",
       "SA-DataTransfer-Out-Bytes        674484173\n",
       "SA-Out-Bytes-HTTP-Static         674484173\n",
       "EU-Requests-HTTP-Static            1372847\n",
       "EU-Requests-Tier1                  1372847\n",
       "US-Requests-HTTP-Static             564736\n",
       "US-Requests-Tier1                   564736\n",
       "AP-Requests-Tier1                     4578\n",
       "AP-Requests-HTTP-Static               4578\n",
       "IN-Requests-HTTP-Static               2561\n",
       "IN-Requests-Tier1                     2561\n",
       "CA-Requests-Tier1                     2001\n",
       "CA-Requests-HTTP-Static               2001\n",
       "AU-Requests-Tier1                      351\n",
       "AU-Requests-HTTP-Static                351\n",
       "JP-Requests-HTTP-Static                160\n",
       "JP-Requests-Tier1                      160\n",
       "SA-Requests-HTTP-Static                 76\n",
       "SA-Requests-Tier1                       76\n",
       "Name: UsageValue, dtype: int64"
      ]
     },
     "execution_count": 70,
     "metadata": {},
     "output_type": "execute_result"
    }
   ],
   "source": [
    "# Total CloudFront 'UsageValue' for each 'UsageType' for each unique Operation\n",
    "usages = cfgb_df[cfgb_df['Operation'] == 'GET'].groupby('UsageType')['UsageValue'].sum()\n",
    "usages.sort_values(ascending=False)"
   ]
  },
  {
   "cell_type": "code",
   "execution_count": 78,
   "metadata": {},
   "outputs": [
    {
     "data": {
      "text/plain": [
       "UsageType\n",
       "US-DataTransfer-Out-Bytes     52\n",
       "US-Requests-Tier1             38\n",
       "US-Out-Bytes-HTTP-Static      38\n",
       "US-Requests-HTTP-Static       38\n",
       "EU-DataTransfer-Out-Bytes     34\n",
       "EU-Out-Bytes-HTTP-Static      29\n",
       "EU-Requests-Tier1             29\n",
       "EU-Requests-HTTP-Static       29\n",
       "CA-DataTransfer-Out-Bytes     27\n",
       "CA-Requests-Tier1             20\n",
       "CA-Out-Bytes-HTTP-Static      20\n",
       "CA-Requests-HTTP-Static       20\n",
       "US-FMS-Out-Bytes              13\n",
       "AP-DataTransfer-Out-Bytes     12\n",
       "AP-Out-Bytes-HTTP-Static       9\n",
       "AP-Requests-HTTP-Static        9\n",
       "AP-Requests-Tier1              9\n",
       "SA-DataTransfer-Out-Bytes      8\n",
       "SA-Requests-HTTP-Static        8\n",
       "SA-Out-Bytes-HTTP-Static       8\n",
       "SA-Requests-Tier1              8\n",
       "CA-FMS-Out-Bytes               7\n",
       "IN-Requests-Tier1              7\n",
       "IN-Requests-HTTP-Static        7\n",
       "IN-Out-Bytes-HTTP-Static       7\n",
       "IN-DataTransfer-Out-Bytes      7\n",
       "JP-Out-Bytes-HTTP-Static       6\n",
       "JP-Requests-HTTP-Static        6\n",
       "JP-Requests-Tier1              6\n",
       "JP-DataTransfer-Out-Bytes      6\n",
       "EU-FMS-Out-Bytes               5\n",
       "AU-Requests-Tier1              5\n",
       "AU-Requests-HTTP-Static        5\n",
       "AU-Out-Bytes-HTTP-Static       5\n",
       "AU-DataTransfer-Out-Bytes      5\n",
       "AP-FMS-Out-Bytes               2\n",
       "US-Requests-HTTP-Proxy         1\n",
       "US-Out-OBytes-HTTP-Proxy       1\n",
       "US-Out-Bytes-HTTP-Proxy        1\n",
       "AP-Requests-HTTP-Proxy         1\n",
       "AP-Out-OBytes-HTTP-Proxy       1\n",
       "AP-Out-Bytes-HTTP-Proxy        1\n",
       "AP-DataTransfer-Out-OBytes     1\n",
       "US-DataTransfer-Out-OBytes     1\n",
       "Name: UsageValue, dtype: int64"
      ]
     },
     "execution_count": 78,
     "metadata": {},
     "output_type": "execute_result"
    }
   ],
   "source": [
    "# Total CloudFront 'UsageType' Unique Events \n",
    "s = cf_df.groupby('UsageType')['UsageValue'].count()\n",
    "s.sort_values(ascending=False)"
   ]
  },
  {
   "cell_type": "code",
   "execution_count": null,
   "metadata": {},
   "outputs": [],
   "source": []
  },
  {
   "cell_type": "code",
   "execution_count": 86,
   "metadata": {},
   "outputs": [
    {
     "data": {
      "text/plain": [
       "552"
      ]
     },
     "execution_count": 86,
     "metadata": {},
     "output_type": "execute_result"
    }
   ],
   "source": [
    "# Total CloudFront Events\n",
    "s.sum()"
   ]
  },
  {
   "cell_type": "code",
   "execution_count": 42,
   "metadata": {},
   "outputs": [
    {
     "data": {
      "text/plain": [
       "UsageType\n",
       "Requests-Tier2               287\n",
       "DataTransfer-Out-Bytes       251\n",
       "Requests-Tier1               170\n",
       "C3DataTransfer-Out-Bytes     162\n",
       "USE1-CloudFront-Out-Bytes     96\n",
       "TimedStorage-ByteHrs          92\n",
       "StorageObjectCount            92\n",
       "C3DataTransfer-In-Bytes       72\n",
       "NoCharge                      36\n",
       "DataTransfer-In-Bytes         20\n",
       "Requests-NoCharge             11\n",
       "USE1-USW1-AWS-Out-Bytes        9\n",
       "USE1-USW2-AWS-Out-Bytes        6\n",
       "USE1-USE2-AWS-Out-Bytes        4\n",
       "USE1-APN1-AWS-Out-Bytes        1\n",
       "Name: UsageValue, dtype: int64"
      ]
     },
     "execution_count": 42,
     "metadata": {},
     "output_type": "execute_result"
    }
   ],
   "source": [
    "s = s3_df.groupby('UsageType')['UsageValue'].count()\n",
    "s.sort_values(ascending=False)"
   ]
  },
  {
   "cell_type": "code",
   "execution_count": 87,
   "metadata": {},
   "outputs": [
    {
     "data": {
      "text/plain": [
       "UsageType\n",
       "C3DataTransfer-In-Bytes            344603888\n",
       "C3DataTransfer-Out-Bytes           989663691\n",
       "DataTransfer-In-Bytes              330154902\n",
       "DataTransfer-Out-Bytes          222349025268\n",
       "NoCharge                              103295\n",
       "Requests-NoCharge                          6\n",
       "Requests-Tier1                        125716\n",
       "Requests-Tier2                        644384\n",
       "StorageObjectCount                 194512553\n",
       "TimedStorage-ByteHrs         363759052055856\n",
       "USE1-APN1-AWS-Out-Bytes               276698\n",
       "USE1-CloudFront-Out-Bytes      2574558082764\n",
       "USE1-USE2-AWS-Out-Bytes              2199724\n",
       "USE1-USW1-AWS-Out-Bytes               830094\n",
       "USE1-USW2-AWS-Out-Bytes              2022307\n",
       "Name: UsageValue, dtype: int64"
      ]
     },
     "execution_count": 87,
     "metadata": {},
     "output_type": "execute_result"
    }
   ],
   "source": [
    "s3_df[s3_df['Resource'] == 'playbackacp.com'].groupby('UsageType')['UsageValue'].sum()"
   ]
  },
  {
   "cell_type": "code",
   "execution_count": 88,
   "metadata": {},
   "outputs": [
    {
     "data": {
      "text/plain": [
       "UsageType\n",
       "C3DataTransfer-In-Bytes             23798754\n",
       "C3DataTransfer-Out-Bytes            39228238\n",
       "DataTransfer-In-Bytes              212382473\n",
       "DataTransfer-Out-Bytes           17854563795\n",
       "NoCharge                               13229\n",
       "Requests-Tier1                         19641\n",
       "Requests-Tier2                         33293\n",
       "StorageObjectCount                  39307339\n",
       "TimedStorage-ByteHrs         295552975890384\n",
       "USE1-CloudFront-Out-Bytes        20473584533\n",
       "Name: UsageValue, dtype: int64"
      ]
     },
     "execution_count": 88,
     "metadata": {},
     "output_type": "execute_result"
    }
   ],
   "source": [
    "s3_df[s3_df['Resource'] == 'playbackaaj.com'].groupby('UsageType')['UsageValue'].sum()"
   ]
  },
  {
   "cell_type": "code",
   "execution_count": 89,
   "metadata": {},
   "outputs": [
    {
     "data": {
      "text/plain": [
       "UsageType\n",
       "C3DataTransfer-In-Bytes            344603888\n",
       "C3DataTransfer-Out-Bytes           989663691\n",
       "DataTransfer-In-Bytes              330154902\n",
       "DataTransfer-Out-Bytes          222349025268\n",
       "NoCharge                              103295\n",
       "Requests-NoCharge                          6\n",
       "Requests-Tier1                        125716\n",
       "Requests-Tier2                        644384\n",
       "StorageObjectCount                 194512553\n",
       "TimedStorage-ByteHrs         363759052055856\n",
       "USE1-APN1-AWS-Out-Bytes               276698\n",
       "USE1-CloudFront-Out-Bytes      2574558082764\n",
       "USE1-USE2-AWS-Out-Bytes              2199724\n",
       "USE1-USW1-AWS-Out-Bytes               830094\n",
       "USE1-USW2-AWS-Out-Bytes              2022307\n",
       "Name: UsageValue, dtype: int64"
      ]
     },
     "execution_count": 89,
     "metadata": {},
     "output_type": "execute_result"
    }
   ],
   "source": [
    "s3_df[s3_df['Resource'] == 'playbackacp.com'].groupby('UsageType')['UsageValue'].sum()"
   ]
  },
  {
   "cell_type": "code",
   "execution_count": null,
   "metadata": {},
   "outputs": [],
   "source": [
    "import matplotlib"
   ]
  }
 ],
 "metadata": {
  "kernelspec": {
   "display_name": "Python 3",
   "language": "python",
   "name": "python3"
  },
  "language_info": {
   "codemirror_mode": {
    "name": "ipython",
    "version": 3
   },
   "file_extension": ".py",
   "mimetype": "text/x-python",
   "name": "python",
   "nbconvert_exporter": "python",
   "pygments_lexer": "ipython3",
   "version": "3.7.1"
  }
 },
 "nbformat": 4,
 "nbformat_minor": 2
}
